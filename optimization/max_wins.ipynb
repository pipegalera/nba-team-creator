{
 "cells": [
  {
   "cell_type": "code",
   "execution_count": 55,
   "metadata": {},
   "outputs": [],
   "source": [
    "from pulp import * \n",
    "import pandas as pd"
   ]
  },
  {
   "cell_type": "code",
   "execution_count": 58,
   "metadata": {},
   "outputs": [
    {
     "name": "stdout",
     "output_type": "stream",
     "text": [
      "Collecting pulp\n",
      "  Using cached PuLP-2.6.0-py3-none-any.whl (14.2 MB)\n",
      "Installing collected packages: pulp\n",
      "Successfully installed pulp-2.6.0\n"
     ]
    }
   ],
   "source": [
    "!pip install pulp --ignore-installed"
   ]
  },
  {
   "cell_type": "code",
   "execution_count": 59,
   "metadata": {},
   "outputs": [],
   "source": [
    "def test_pulp_works():\n",
    "    pulpTestAll()\n",
    "    optimization_result = prob.solve(PULP_CBC_CMD())\n",
    "    assert optimization_result == LpStatusOptimal\n",
    "    \n",
    "    return LpStatus[prob.status]"
   ]
  },
  {
   "cell_type": "code",
   "execution_count": 60,
   "metadata": {},
   "outputs": [
    {
     "name": "stderr",
     "output_type": "stream",
     "text": [
      "ssssssssssssssssssssssssssssssssssssssssssssssssssssssssssssssssssssssssssssssssssssssssssssssssssssssssssssssssssssssssssssssssssssssssssssssssssssssssssssssssssssssssssssssssssssssssssssssssssssssssssssssssssssssssssssssssssssssssssssssssssssssssssssssssssssssssssssssssssssssssssssssssssssssssssssssssssssssssssssssssssssssssssssssssssssssssssssssssssssssssssssssssssssssssssssssssssssssssssssssssssssssssssssssssssssssssssssssssssssssssssssssssssssssssssssssssssssssssssssssssssssssssssssssssssssssssssssssssssssssssssssssssssssssssssssssssssssssssssssssss...."
     ]
    },
    {
     "name": "stdout",
     "output_type": "stream",
     "text": [
      "\t Test that logic put in place for deprecation handling of indexs works\n",
      "\t Testing 'indexs' param continues to work for LpVariable.dicts\n",
      "\t Testing 'indexs' param continues to work for LpVariable.matrix\n",
      "\t Testing 'indices' argument works in LpVariable.dicts\n",
      "\t Testing 'indices' param continues to work for LpVariable.matrix\n",
      "\t Testing invalid status\n",
      "\t Testing continuous LP solution - export dict\n"
     ]
    },
    {
     "name": "stderr",
     "output_type": "stream",
     "text": [
      "................"
     ]
    },
    {
     "name": "stdout",
     "output_type": "stream",
     "text": [
      "\t Testing export dict for LP\n",
      "\t Testing export dict MIP\n",
      "\t Testing maximize continuous LP solution\n",
      "\t Testing continuous LP solution - export JSON\n",
      "\t Testing continuous LP solution - export solver dict\n",
      "\t Testing continuous LP solution - export solver JSON\n",
      "\t Testing reading MPS files - binary variable, no constraint names\n",
      "\t Testing reading MPS files - integer variable\n",
      "\t Testing reading MPS files - maximize\n",
      "\t Testing invalid var names\n",
      "\t Testing logPath argument\n",
      "\t Testing makeDict general behavior\n",
      "\t Testing makeDict default value behavior\n",
      "\t Testing measuring optimization time\n"
     ]
    },
    {
     "name": "stderr",
     "output_type": "stream",
     "text": [
      "................"
     ]
    },
    {
     "name": "stdout",
     "output_type": "stream",
     "text": [
      "\t Testing the availability of the function pulpTestAll\n",
      "\t Testing zero subtraction\n",
      "\t Testing inconsistent lp solution\n",
      "\t Testing continuous LP solution\n",
      "\t Testing maximize continuous LP solution\n",
      "\t Testing unbounded continuous LP solution\n",
      "\t Testing Long Names\n",
      "\t Testing repeated Names\n",
      "\t Testing zero constraint\n",
      "\t Testing zero objective\n",
      "\t Testing LpVariable (not LpAffineExpression) objective\n",
      "\t Testing Long lines in LP\n",
      "\t Testing LpAffineExpression divide\n",
      "\t Testing MIP solution\n",
      "\t Testing MIP solution with floats in objective\n"
     ]
    },
    {
     "name": "stderr",
     "output_type": "stream",
     "text": [
      "............."
     ]
    },
    {
     "name": "stdout",
     "output_type": "stream",
     "text": [
      "\t Testing Initial value in MIP solution\n",
      "\t Testing fixing value in MIP solution\n",
      "\t Testing MIP relaxation\n",
      "\t Testing feasibility problem (no objective)\n",
      "\t Testing an infeasible problem\n",
      "\t Testing an integer infeasible problem\n",
      "\t Testing another integer infeasible problem\n",
      "\t Testing column based modelling\n",
      "\t Testing dual variables and slacks reporting\n",
      "\t Testing fractional constraints\n"
     ]
    },
    {
     "name": "stderr",
     "output_type": "stream",
     "text": [
      ".......sssssssssssssssssssssssssssssssssssssssssssssssssssssssssssssssssssssssssssssssssssssssssssssss"
     ]
    },
    {
     "name": "stdout",
     "output_type": "stream",
     "text": [
      "\t Testing elastic constraints (no change)\n",
      "\t Testing elastic constraints (freebound)\n",
      "\t Testing elastic constraints (penalty unchanged)\n",
      "\t Testing elastic constraints (penalty unbounded)\n",
      "\t Testing timeLimit argument\n"
     ]
    },
    {
     "name": "stderr",
     "output_type": "stream",
     "text": [
      "sssssssssssssssssssssssssssssssssssssssssssssssssssssssssssssssssssssssssssssssssssssssssssssssssssssssssssssssssssssssssssssssss\n",
      "----------------------------------------------------------------------\n",
      "Ran 840 tests in 13.070s\n",
      "\n",
      "OK (skipped=784)\n"
     ]
    },
    {
     "ename": "PulpSolverError",
     "evalue": "Pulp: Error while executing C:\\Users\\pipeg\\miniconda3\\envs\\nba_team_maker\\lib\\site-packages\\pulp\\apis\\..\\solverdir\\cbc\\win\\64\\cbc.exe",
     "output_type": "error",
     "traceback": [
      "\u001b[1;31m---------------------------------------------------------------------------\u001b[0m",
      "\u001b[1;31mPulpSolverError\u001b[0m                           Traceback (most recent call last)",
      "\u001b[1;32m~\\AppData\\Local\\Temp/ipykernel_18140/3488380451.py\u001b[0m in \u001b[0;36m<module>\u001b[1;34m\u001b[0m\n\u001b[1;32m----> 1\u001b[1;33m \u001b[0mtest_pulp_works\u001b[0m\u001b[1;33m(\u001b[0m\u001b[1;33m)\u001b[0m\u001b[1;33m\u001b[0m\u001b[1;33m\u001b[0m\u001b[0m\n\u001b[0m",
      "\u001b[1;32m~\\AppData\\Local\\Temp/ipykernel_18140/1557882520.py\u001b[0m in \u001b[0;36mtest_pulp_works\u001b[1;34m()\u001b[0m\n\u001b[0;32m      1\u001b[0m \u001b[1;32mdef\u001b[0m \u001b[0mtest_pulp_works\u001b[0m\u001b[1;33m(\u001b[0m\u001b[1;33m)\u001b[0m\u001b[1;33m:\u001b[0m\u001b[1;33m\u001b[0m\u001b[1;33m\u001b[0m\u001b[0m\n\u001b[0;32m      2\u001b[0m     \u001b[0mpulpTestAll\u001b[0m\u001b[1;33m(\u001b[0m\u001b[1;33m)\u001b[0m\u001b[1;33m\u001b[0m\u001b[1;33m\u001b[0m\u001b[0m\n\u001b[1;32m----> 3\u001b[1;33m     \u001b[0moptimization_result\u001b[0m \u001b[1;33m=\u001b[0m \u001b[0mprob\u001b[0m\u001b[1;33m.\u001b[0m\u001b[0msolve\u001b[0m\u001b[1;33m(\u001b[0m\u001b[0mPULP_CBC_CMD\u001b[0m\u001b[1;33m(\u001b[0m\u001b[1;33m)\u001b[0m\u001b[1;33m)\u001b[0m\u001b[1;33m\u001b[0m\u001b[1;33m\u001b[0m\u001b[0m\n\u001b[0m\u001b[0;32m      4\u001b[0m     \u001b[1;32massert\u001b[0m \u001b[0moptimization_result\u001b[0m \u001b[1;33m==\u001b[0m \u001b[0mLpStatusOptimal\u001b[0m\u001b[1;33m\u001b[0m\u001b[1;33m\u001b[0m\u001b[0m\n\u001b[0;32m      5\u001b[0m \u001b[1;33m\u001b[0m\u001b[0m\n",
      "\u001b[1;32m~\\miniconda3\\envs\\nba_team_maker\\lib\\site-packages\\pulp\\pulp.py\u001b[0m in \u001b[0;36msolve\u001b[1;34m(self, solver, **kwargs)\u001b[0m\n\u001b[0;32m   1911\u001b[0m         \u001b[1;31m# time it\u001b[0m\u001b[1;33m\u001b[0m\u001b[1;33m\u001b[0m\u001b[1;33m\u001b[0m\u001b[0m\n\u001b[0;32m   1912\u001b[0m         \u001b[0mself\u001b[0m\u001b[1;33m.\u001b[0m\u001b[0mstartClock\u001b[0m\u001b[1;33m(\u001b[0m\u001b[1;33m)\u001b[0m\u001b[1;33m\u001b[0m\u001b[1;33m\u001b[0m\u001b[0m\n\u001b[1;32m-> 1913\u001b[1;33m         \u001b[0mstatus\u001b[0m \u001b[1;33m=\u001b[0m \u001b[0msolver\u001b[0m\u001b[1;33m.\u001b[0m\u001b[0mactualSolve\u001b[0m\u001b[1;33m(\u001b[0m\u001b[0mself\u001b[0m\u001b[1;33m,\u001b[0m \u001b[1;33m**\u001b[0m\u001b[0mkwargs\u001b[0m\u001b[1;33m)\u001b[0m\u001b[1;33m\u001b[0m\u001b[1;33m\u001b[0m\u001b[0m\n\u001b[0m\u001b[0;32m   1914\u001b[0m         \u001b[0mself\u001b[0m\u001b[1;33m.\u001b[0m\u001b[0mstopClock\u001b[0m\u001b[1;33m(\u001b[0m\u001b[1;33m)\u001b[0m\u001b[1;33m\u001b[0m\u001b[1;33m\u001b[0m\u001b[0m\n\u001b[0;32m   1915\u001b[0m         \u001b[0mself\u001b[0m\u001b[1;33m.\u001b[0m\u001b[0mrestoreObjective\u001b[0m\u001b[1;33m(\u001b[0m\u001b[0mwasNone\u001b[0m\u001b[1;33m,\u001b[0m \u001b[0mdummyVar\u001b[0m\u001b[1;33m)\u001b[0m\u001b[1;33m\u001b[0m\u001b[1;33m\u001b[0m\u001b[0m\n",
      "\u001b[1;32m~\\miniconda3\\envs\\nba_team_maker\\lib\\site-packages\\pulp\\apis\\coin_api.py\u001b[0m in \u001b[0;36mactualSolve\u001b[1;34m(self, lp, **kwargs)\u001b[0m\n\u001b[0;32m    135\u001b[0m     \u001b[1;32mdef\u001b[0m \u001b[0mactualSolve\u001b[0m\u001b[1;33m(\u001b[0m\u001b[0mself\u001b[0m\u001b[1;33m,\u001b[0m \u001b[0mlp\u001b[0m\u001b[1;33m,\u001b[0m \u001b[1;33m**\u001b[0m\u001b[0mkwargs\u001b[0m\u001b[1;33m)\u001b[0m\u001b[1;33m:\u001b[0m\u001b[1;33m\u001b[0m\u001b[1;33m\u001b[0m\u001b[0m\n\u001b[0;32m    136\u001b[0m         \u001b[1;34m\"\"\"Solve a well formulated lp problem\"\"\"\u001b[0m\u001b[1;33m\u001b[0m\u001b[1;33m\u001b[0m\u001b[0m\n\u001b[1;32m--> 137\u001b[1;33m         \u001b[1;32mreturn\u001b[0m \u001b[0mself\u001b[0m\u001b[1;33m.\u001b[0m\u001b[0msolve_CBC\u001b[0m\u001b[1;33m(\u001b[0m\u001b[0mlp\u001b[0m\u001b[1;33m,\u001b[0m \u001b[1;33m**\u001b[0m\u001b[0mkwargs\u001b[0m\u001b[1;33m)\u001b[0m\u001b[1;33m\u001b[0m\u001b[1;33m\u001b[0m\u001b[0m\n\u001b[0m\u001b[0;32m    138\u001b[0m \u001b[1;33m\u001b[0m\u001b[0m\n\u001b[0;32m    139\u001b[0m     \u001b[1;32mdef\u001b[0m \u001b[0mavailable\u001b[0m\u001b[1;33m(\u001b[0m\u001b[0mself\u001b[0m\u001b[1;33m)\u001b[0m\u001b[1;33m:\u001b[0m\u001b[1;33m\u001b[0m\u001b[1;33m\u001b[0m\u001b[0m\n",
      "\u001b[1;32m~\\miniconda3\\envs\\nba_team_maker\\lib\\site-packages\\pulp\\apis\\coin_api.py\u001b[0m in \u001b[0;36msolve_CBC\u001b[1;34m(self, lp, use_mps)\u001b[0m\n\u001b[0;32m    203\u001b[0m             \u001b[0mpipe\u001b[0m\u001b[1;33m.\u001b[0m\u001b[0mclose\u001b[0m\u001b[1;33m(\u001b[0m\u001b[1;33m)\u001b[0m\u001b[1;33m\u001b[0m\u001b[1;33m\u001b[0m\u001b[0m\n\u001b[0;32m    204\u001b[0m         \u001b[1;32mif\u001b[0m \u001b[1;32mnot\u001b[0m \u001b[0mos\u001b[0m\u001b[1;33m.\u001b[0m\u001b[0mpath\u001b[0m\u001b[1;33m.\u001b[0m\u001b[0mexists\u001b[0m\u001b[1;33m(\u001b[0m\u001b[0mtmpSol\u001b[0m\u001b[1;33m)\u001b[0m\u001b[1;33m:\u001b[0m\u001b[1;33m\u001b[0m\u001b[1;33m\u001b[0m\u001b[0m\n\u001b[1;32m--> 205\u001b[1;33m             \u001b[1;32mraise\u001b[0m \u001b[0mPulpSolverError\u001b[0m\u001b[1;33m(\u001b[0m\u001b[1;34m\"Pulp: Error while executing \"\u001b[0m \u001b[1;33m+\u001b[0m \u001b[0mself\u001b[0m\u001b[1;33m.\u001b[0m\u001b[0mpath\u001b[0m\u001b[1;33m)\u001b[0m\u001b[1;33m\u001b[0m\u001b[1;33m\u001b[0m\u001b[0m\n\u001b[0m\u001b[0;32m    206\u001b[0m         (\n\u001b[0;32m    207\u001b[0m             \u001b[0mstatus\u001b[0m\u001b[1;33m,\u001b[0m\u001b[1;33m\u001b[0m\u001b[1;33m\u001b[0m\u001b[0m\n",
      "\u001b[1;31mPulpSolverError\u001b[0m: Pulp: Error while executing C:\\Users\\pipeg\\miniconda3\\envs\\nba_team_maker\\lib\\site-packages\\pulp\\apis\\..\\solverdir\\cbc\\win\\64\\cbc.exe"
     ]
    }
   ],
   "source": [
    "test_pulp_works()"
   ]
  },
  {
   "cell_type": "code",
   "execution_count": null,
   "metadata": {},
   "outputs": [],
   "source": [
    "print(os.getcwd())\n",
    "path = 'c:/Users/pipeg/Documents/GitHub/nba-team-creator/'\n",
    "os.chdir(path)\n",
    "os.getcwd()"
   ]
  },
  {
   "cell_type": "code",
   "execution_count": null,
   "metadata": {},
   "outputs": [],
   "source": [
    "players = pd.read_csv('out_data/players_optimization_data.csv')\n",
    "players"
   ]
  },
  {
   "cell_type": "markdown",
   "metadata": {},
   "source": [
    "Variables"
   ]
  },
  {
   "cell_type": "code",
   "execution_count": null,
   "metadata": {},
   "outputs": [],
   "source": [
    "# se llamaba 'vars' antes\n",
    "player_index = [pulp.LpVariable(('x' + str(i)), lowBound = 0, upBound = 1, cat= 'Integer') for i in players.index]"
   ]
  },
  {
   "cell_type": "markdown",
   "metadata": {},
   "source": [
    "Constrains"
   ]
  },
  {
   "cell_type": "markdown",
   "metadata": {},
   "source": [
    "Defining the Optimization problem"
   ]
  },
  {
   "cell_type": "code",
   "execution_count": null,
   "metadata": {},
   "outputs": [],
   "source": [
    "total_PER_Unit_1 = \"\"\n",
    "for rownum, row in players.iterrows():\n",
    "    for i, schedule in enumerate(player_index):\n",
    "        if rownum == i:\n",
    "            formula = row['PER']* row['Unit_1'] * schedule\n",
    "            total_PER_Unit_1 += formula\n",
    "\n",
    "total_PER_Unit_2 = \"\"\n",
    "for rownum, row in players.iterrows():\n",
    "    for i, schedule in enumerate(player_index):\n",
    "        if rownum == i:\n",
    "            formula = row['PER']* row['Unit_2'] * schedule\n",
    "            total_PER_Unit_2 += formula\n",
    "\n",
    "total_DRtg_Unit_1 = \"\"\n",
    "for rownum, row in players.iterrows():\n",
    "    for i, schedule in enumerate(player_index):\n",
    "        if rownum == i:\n",
    "            formula = row['DRtg']* row['Unit_2'] * schedule\n",
    "            total_DRtg_Unit_1 += formula\n",
    "\n",
    "\n",
    "total_DRtg_Unit_2 = \"\"\n",
    "for rownum, row in players.iterrows():\n",
    "    for i, schedule in enumerate(player_index):\n",
    "        if rownum == i:\n",
    "            formula = row['DRtg']* row['Unit_2'] * schedule\n",
    "            total_DRtg_Unit_2 += formula\n"
   ]
  },
  {
   "cell_type": "markdown",
   "metadata": {},
   "source": [
    "Definning the Constrains"
   ]
  },
  {
   "cell_type": "code",
   "execution_count": null,
   "metadata": {},
   "outputs": [],
   "source": [
    "# Salary\n",
    "salary_cap = 112404000\n",
    "total_salary = \"\"\n",
    "for rownum, row in players.iterrows():\n",
    "    for i, schedule in enumerate(player_index):\n",
    "        if rownum == i:\n",
    "            formula = row['Salary adjusted by inflation']* schedule\n",
    "            total_salary += formula"
   ]
  },
  {
   "cell_type": "code",
   "execution_count": null,
   "metadata": {},
   "outputs": [],
   "source": [
    "# Add an indicator to control the number of players later in the optimization\n",
    "total_number = \"\"\n",
    "for rownum, row in players.iterrows():\n",
    "    for i, schedule in enumerate(player_index):\n",
    "        if rownum == i:\n",
    "            formula = 1 * schedule\n",
    "            total_number += formula"
   ]
  },
  {
   "cell_type": "code",
   "execution_count": null,
   "metadata": {},
   "outputs": [],
   "source": [
    "# 5 Positions\n",
    "total_centers = \"\"\n",
    "for rownum, row in players.iterrows():\n",
    "    for i, schedule in enumerate(player_index):\n",
    "        if rownum == i:\n",
    "            formula = row['Pos_C'] * schedule\n",
    "            total_centers += formula\n",
    "\n",
    "\n",
    "total_powerforwards = \"\"\n",
    "for rownum, row in players.iterrows():\n",
    "    for i, schedule in enumerate(player_index):\n",
    "        if rownum == i:\n",
    "            formula = row['Pos_PF']* schedule\n",
    "            total_powerforwards += formula\n",
    "\n",
    "\n",
    "total_secondforwards = \"\"\n",
    "for rownum, row in players.iterrows():\n",
    "    for i, schedule in enumerate(player_index):\n",
    "        if rownum == i:\n",
    "            formula = row['Pos_SF']* schedule\n",
    "            total_secondforwards += formula\n",
    "\n",
    "\n",
    "total_pointguard = \"\"\n",
    "for rownum, row in players.iterrows():\n",
    "    for i, schedule in enumerate(player_index):\n",
    "        if rownum == i:\n",
    "            formula = row['Pos_PG']* schedule\n",
    "            total_pointguard += formula\n",
    "\n",
    "\n",
    "total_secondguard = \"\"\n",
    "for rownum, row in players.iterrows():\n",
    "    for i, schedule in enumerate(player_index):\n",
    "        if rownum == i:\n",
    "            formula = row['Pos_SG']* schedule\n",
    "            total_secondguard += formula\n",
    "\n",
    "\n",
    "# Limit the number of First Unit players\n",
    "total_FU = \"\"\n",
    "for rownum, row in players.iterrows():\n",
    "    for i, schedule in enumerate(player_index):\n",
    "        if rownum == i:\n",
    "            formula = row['Unit_1']* schedule\n",
    "            total_FU += formula"
   ]
  },
  {
   "cell_type": "markdown",
   "metadata": {},
   "source": [
    "Parameters"
   ]
  },
  {
   "cell_type": "code",
   "execution_count": null,
   "metadata": {},
   "outputs": [],
   "source": [
    "# Betas linear regresion model_\"2\n",
    "b0=0.665854\n",
    "b1=0.014014\n",
    "b2=0.006048\n",
    "b3=-0.002072\n",
    "b4=-0.001114"
   ]
  },
  {
   "cell_type": "markdown",
   "metadata": {},
   "source": [
    "Strategy"
   ]
  },
  {
   "cell_type": "code",
   "execution_count": null,
   "metadata": {},
   "outputs": [],
   "source": [
    "LpSolverDefault.msg = 1\n",
    "prob = pulp.LpProblem('Maximizing PER and DRtg', LpMaximize) # Strategy: select players that max stats\n",
    "#prob = pulp.LpProblem('Min_stats', LpMinimize) # Strategy: select players that min stats\n",
    "prob += (b0 + b1*total_PER_Unit_1 + b2*total_PER_Unit_2 + b3*total_DRtg_Unit_1 + b4*total_DRtg_Unit_2)\n",
    "prob += (total_salary <= salary_cap)\n",
    "prob += (total_number == 10)\n",
    "prob += (total_FU <= 5)\n",
    "prob += (total_centers <= 2)\n",
    "prob += (total_powerforwards <= 2)\n",
    "prob += (total_secondforwards <= 2)\n",
    "prob += (total_pointguard <= 2)\n",
    "prob += (total_secondguard <= 2)"
   ]
  },
  {
   "cell_type": "code",
   "execution_count": null,
   "metadata": {},
   "outputs": [],
   "source": []
  },
  {
   "cell_type": "markdown",
   "metadata": {},
   "source": [
    "Optimization solution"
   ]
  },
  {
   "cell_type": "code",
   "execution_count": null,
   "metadata": {},
   "outputs": [],
   "source": [
    "list_players = []\n",
    "\n",
    "for i in prob.variables(): \n",
    "    if i.varValue == 1:\n",
    "        list_players.append(i.name.replace('x', ''))"
   ]
  },
  {
   "cell_type": "code",
   "execution_count": null,
   "metadata": {},
   "outputs": [],
   "source": [
    "players.iloc[list_players]"
   ]
  },
  {
   "cell_type": "markdown",
   "metadata": {},
   "source": [
    "# TEST "
   ]
  },
  {
   "cell_type": "code",
   "execution_count": null,
   "metadata": {},
   "outputs": [],
   "source": [
    "# Creates a list of the Ingredients\n",
    "Ingredients = [\"CHICKEN\", \"BEEF\", \"MUTTON\", \"RICE\", \"WHEAT\", \"GEL\"]\n",
    "\n",
    "# A dictionary of the costs of each of the Ingredients is created\n",
    "costs = {\n",
    "    \"CHICKEN\": 0.013,\n",
    "    \"BEEF\": 0.008,\n",
    "    \"MUTTON\": 0.010,\n",
    "    \"RICE\": 0.002,\n",
    "    \"WHEAT\": 0.005,\n",
    "    \"GEL\": 0.001,\n",
    "}\n",
    "\n",
    "# A dictionary of the protein percent in each of the Ingredients is created\n",
    "proteinPercent = {\n",
    "    \"CHICKEN\": 0.100,\n",
    "    \"BEEF\": 0.200,\n",
    "    \"MUTTON\": 0.150,\n",
    "    \"RICE\": 0.000,\n",
    "    \"WHEAT\": 0.040,\n",
    "    \"GEL\": 0.000,\n",
    "}\n",
    "\n",
    "# A dictionary of the fat percent in each of the Ingredients is created\n",
    "fatPercent = {\n",
    "    \"CHICKEN\": 0.080,\n",
    "    \"BEEF\": 0.100,\n",
    "    \"MUTTON\": 0.110,\n",
    "    \"RICE\": 0.010,\n",
    "    \"WHEAT\": 0.010,\n",
    "    \"GEL\": 0.000,\n",
    "}\n",
    "\n",
    "# A dictionary of the fibre percent in each of the Ingredients is created\n",
    "fibrePercent = {\n",
    "    \"CHICKEN\": 0.001,\n",
    "    \"BEEF\": 0.005,\n",
    "    \"MUTTON\": 0.003,\n",
    "    \"RICE\": 0.100,\n",
    "    \"WHEAT\": 0.150,\n",
    "    \"GEL\": 0.000,\n",
    "}\n",
    "\n",
    "# A dictionary of the salt percent in each of the Ingredients is created\n",
    "saltPercent = {\n",
    "    \"CHICKEN\": 0.002,\n",
    "    \"BEEF\": 0.005,\n",
    "    \"MUTTON\": 0.007,\n",
    "    \"RICE\": 0.002,\n",
    "    \"WHEAT\": 0.008,\n",
    "    \"GEL\": 0.000,\n",
    "}"
   ]
  },
  {
   "cell_type": "code",
   "execution_count": null,
   "metadata": {},
   "outputs": [],
   "source": [
    "ingredient_vars = LpVariable.dicts(\"Ingr\", Ingredients, 0)\n"
   ]
  },
  {
   "cell_type": "code",
   "execution_count": null,
   "metadata": {},
   "outputs": [],
   "source": [
    "ingredient_vars"
   ]
  },
  {
   "cell_type": "code",
   "execution_count": null,
   "metadata": {},
   "outputs": [],
   "source": [
    "for i in Ingredients:\n",
    "    print(costs[i])"
   ]
  },
  {
   "cell_type": "code",
   "execution_count": null,
   "metadata": {},
   "outputs": [],
   "source": [
    "prob = LpProblem(\"The Whiskas Problem\", LpMinimize)\n",
    "# The objective function is added to 'prob' first\n",
    "prob += (\n",
    "    lpSum([costs[i] * ingredient_vars[i] for i in Ingredients]),\n",
    "    \"Total Cost of Ingredients per can\",\n",
    ")"
   ]
  },
  {
   "cell_type": "code",
   "execution_count": null,
   "metadata": {},
   "outputs": [],
   "source": [
    "prob"
   ]
  },
  {
   "cell_type": "code",
   "execution_count": null,
   "metadata": {},
   "outputs": [],
   "source": [
    "nba_prob = pulp.LpProblem('Maximizing PER and DRtg', LpMaximize) # Strategy: select players that max stats\n",
    "#prob = pulp.LpProblem('Min_stats', LpMinimize) # Strategy: select players that min stats\n",
    "#prob += (b0 + b1*total_PER_Unit_1 + b2*total_PER_Unit_2 + b3*total_DRtg_Unit_1 + b4*total_DRtg_Unit_2)"
   ]
  },
  {
   "cell_type": "code",
   "execution_count": null,
   "metadata": {},
   "outputs": [],
   "source": [
    "nba_prob"
   ]
  },
  {
   "cell_type": "code",
   "execution_count": null,
   "metadata": {},
   "outputs": [],
   "source": []
  }
 ],
 "metadata": {
  "interpreter": {
   "hash": "e6705a604d6221ea1af54d709494ee8b563592fe4896e89194e31839fd4850d5"
  },
  "kernelspec": {
   "display_name": "Python 3.7.11 64-bit ('nba_team_maker': conda)",
   "language": "python",
   "name": "python3"
  },
  "language_info": {
   "codemirror_mode": {
    "name": "ipython",
    "version": 3
   },
   "file_extension": ".py",
   "mimetype": "text/x-python",
   "name": "python",
   "nbconvert_exporter": "python",
   "pygments_lexer": "ipython3",
   "version": "3.7.11"
  },
  "orig_nbformat": 4
 },
 "nbformat": 4,
 "nbformat_minor": 2
}
