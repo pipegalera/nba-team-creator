{
 "cells": [
  {
   "cell_type": "markdown",
   "source": [
    "# Table 1\r\n",
    "\r\n",
    "- [x] Column 1: Winrate \r\n",
    "- [x] Column 2: **League** Rank (not conference) according to the winrate\r\n",
    "- [x] Column 3: Summed PER of the FU\r\n",
    "- [x] Column 4: Summer PER of the FU and SU"
   ],
   "metadata": {}
  },
  {
   "cell_type": "code",
   "execution_count": null,
   "source": [
    "table_1 = pd.DataFrame()\r\n",
    "\r\n",
    "# Column Winrate\r\n",
    "winrate = data_teams.groupby([\"Team\", \"Season\"]).agg(\"sum\")[\"W/L%\"]\r\n",
    "winrate = pd.DataFrame(winrate).sort_values(by = [\"Season\", \"Team\"], ascending = False).reset_index()\r\n",
    "\r\n",
    "# Column League rank\r\n",
    "league_rank = winrate.groupby(\"Season\")[\"W/L%\"].rank(\"dense\", ascending = False)\r\n",
    "\r\n",
    "table_1 = winrate \r\n",
    "table_1[\"Real Rank\"] = league_rank\r\n",
    "\r\n",
    "# Column Summed PER of First Unit\r\n",
    "table_1 = table_1.merge(per_1_units, on = [\"Team\", \"Season\"])\r\n",
    "\r\n",
    "# Column Summed PER of First Unit and Second Unit\r\n",
    "table_1 = table_1.merge(per_12_units, on = [\"Team\", \"Season\"])\r\n",
    "\r\n",
    "table_1.sort_values(by = \"W/L%\", ascending = False, inplace = True)"
   ],
   "outputs": [],
   "metadata": {}
  }
 ],
 "metadata": {
  "orig_nbformat": 4,
  "language_info": {
   "name": "python"
  }
 },
 "nbformat": 4,
 "nbformat_minor": 2
}